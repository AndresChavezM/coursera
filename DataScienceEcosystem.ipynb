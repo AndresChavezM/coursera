{
 "cells": [
  {
   "cell_type": "markdown",
   "id": "dc3eff37",
   "metadata": {},
   "source": [
    "Ejercicio 2: crear una celda de rebajas con el título del cuaderno\n",
    "\n",
    "Cree una celda de rebajas con el título Data Science Tools and Ecosystemusando el encabezado de estilo H1.\n",
    "Tome una captura de pantalla de la celda de rebajas y asígnele el nombre 2-title.png(las imágenes se pueden guardar con la extensión .jpg o .png)."
   ]
  },
  {
   "cell_type": "markdown",
   "id": "6f2a631e",
   "metadata": {},
   "source": [
    "# Data Science Tools and Ecosystemusando"
   ]
  },
  {
   "cell_type": "markdown",
   "id": "673ebc81",
   "metadata": {},
   "source": [
    "In this notebook, Data Science Tools and Ecosystem are summarized."
   ]
  },
  {
   "cell_type": "markdown",
   "id": "9e6ec816",
   "metadata": {},
   "source": [
    "**Objectives:**\n",
    "\n",
    "- List popular languages for Data Science\n",
    "- Describe commonly used libraries in Data Science\n",
    "- Create a table with Data Science tools\n",
    "- Provide examples of arithmetic expressions in Python\n",
    "- Demonstrate code to multiply, add, and convert time units\n"
   ]
  },
  {
   "cell_type": "markdown",
   "id": "d359d978",
   "metadata": {},
   "source": [
    "Some of the popular languages that Data Scientists use are:\n",
    "\n",
    "1. Python\n",
    "2. R\n",
    "3. SQL\n",
    "4. Julia\n",
    "5. Scala\n"
   ]
  },
  {
   "cell_type": "markdown",
   "id": "b030df1d",
   "metadata": {},
   "source": [
    "Some of the commonly used libraries used by Data Scientists include:\n",
    "\n",
    "1. NumPy\n",
    "2. Pandas\n",
    "3. Matplotlib\n",
    "4. Scikit-learn\n",
    "5. TensorFlow\n",
    "6. Keras\n"
   ]
  },
  {
   "cell_type": "markdown",
   "id": "f52041b2",
   "metadata": {},
   "source": [
    "| Data Science Tools     |\n",
    "|------------------------|\n",
    "| Jupyter Notebook       |\n",
    "| RStudio                |\n",
    "| Apache Zeppelin        |\n"
   ]
  },
  {
   "cell_type": "markdown",
   "id": "cb019782",
   "metadata": {},
   "source": [
    "\n",
    "### Below are a few examples of evaluating arithmetic expressions in Python\n",
    "\n",
    "- **Addition**: `2 + 3` results in `5`\n",
    "- **Subtraction**: `5 - 2` results in `3`\n",
    "- **Multiplication**: `4 * 3` results in `12`\n",
    "- **Division**: `10 / 2` results in `5.0`\n",
    "- **Exponentiation**: `2 ** 3` results in `8`\n",
    "- **Modulo**: `10 % 3` results in `1`\n"
   ]
  },
  {
   "cell_type": "code",
   "execution_count": 1,
   "id": "d04677d2",
   "metadata": {},
   "outputs": [
    {
     "data": {
      "text/plain": [
       "17"
      ]
     },
     "execution_count": 1,
     "metadata": {},
     "output_type": "execute_result"
    }
   ],
   "source": [
    "# This is a simple arithmetic expression to multiply then add integers\n",
    "(3 * 4) + 5\n"
   ]
  },
  {
   "cell_type": "code",
   "execution_count": 2,
   "id": "cc6b25b7",
   "metadata": {},
   "outputs": [
    {
     "data": {
      "text/plain": [
       "3.3333333333333335"
      ]
     },
     "execution_count": 2,
     "metadata": {},
     "output_type": "execute_result"
    }
   ],
   "source": [
    "# This will convert 200 minutes to hours by dividing by 60\n",
    "minutes = 200\n",
    "hours = minutes / 60\n",
    "hours\n"
   ]
  },
  {
   "cell_type": "markdown",
   "id": "ddc07f1d",
   "metadata": {},
   "source": [
    "## Author\n",
    "\n",
    "Luis Andrés Chávez Madera\n"
   ]
  }
 ],
 "metadata": {
  "kernelspec": {
   "display_name": "Python 3 (ipykernel)",
   "language": "python",
   "name": "python3"
  },
  "language_info": {
   "codemirror_mode": {
    "name": "ipython",
    "version": 3
   },
   "file_extension": ".py",
   "mimetype": "text/x-python",
   "name": "python",
   "nbconvert_exporter": "python",
   "pygments_lexer": "ipython3",
   "version": "3.9.7"
  }
 },
 "nbformat": 4,
 "nbformat_minor": 5
}
